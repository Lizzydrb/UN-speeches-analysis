{
  "nbformat": 4,
  "nbformat_minor": 0,
  "metadata": {
    "colab": {
      "name": "Assessment.ipynb",
      "provenance": [],
      "collapsed_sections": []
    },
    "kernelspec": {
      "name": "python3",
      "display_name": "Python 3"
    },
    "language_info": {
      "name": "python"
    }
  },
  "cells": [
    {
      "cell_type": "code",
      "metadata": {
        "id": "6gVCGT-OUQWk"
      },
      "source": [
        "import os\n",
        "import numpy as np\n",
        "import pandas as pd\n",
        "import nltk\n",
        "\n",
        "nltk.download('punkt')\n",
        "nltk.download('stopwords')\n",
        "nltk.download('vader_lexicon')\n",
        "\n",
        "sessions = np.arange(25, 76)\n",
        "data=[]\n",
        "\n",
        "for session in sessions:\n",
        "    directory = \"./TXT/Session \"+str(session)+\" - \"+str(1945+session)\n",
        "    for filename in os.listdir(directory):\n",
        "        f = open(os.path.join(directory, filename), encoding='utf-8')\n",
        "        if filename[0]==\".\": #ignore hidden files\n",
        "            continue\n",
        "        splt = filename.split(\"_\")\n",
        "        data.append([session, 1945+session, splt[0], f.read()])\n",
        "\n",
        "        \n",
        "df_speech = pd.DataFrame(data, columns=['Session','Year','ISO-alpha3 Code','Speech'])\n"
      ],
      "execution_count": null,
      "outputs": []
    },
    {
      "cell_type": "code",
      "metadata": {
        "id": "rs59hSEHUhoW"
      },
      "source": [
        "df_codes = pd.read_csv('UNSD — Methodology.csv')"
      ],
      "execution_count": null,
      "outputs": []
    },
    {
      "cell_type": "code",
      "metadata": {
        "id": "e5ARaB8PUYVq"
      },
      "source": [
        "df_un_merged=df_codes.merge(df_speech)\n",
        "df_un_merged=df_un_merged[[\"Country or Area\", \"Region Name\",\"Sub-region Name\", \"ISO-alpha3 Code\",\"Developed / Developing Countries\", \"Session\", \"Year\", \"Speech\"]]\n",
        "df_un_merged=df_un_merged.set_index([\"Year\", \"ISO-alpha3 Code\"])\n",
        "df_un_merged"
      ],
      "execution_count": null,
      "outputs": []
    },
    {
      "cell_type": "code",
      "metadata": {
        "id": "8pfuFElPUpmd"
      },
      "source": [
        "from nltk.probability import FreqDist\n",
        "from nltk import word_tokenize\n",
        "from nltk.corpus import stopwords\n",
        "\n",
        "def preprocess(words):\n",
        "    sw = stopwords.words(\"english\")\n",
        "    no_sw = []\n",
        "    for w in words:\n",
        "        if (w not in sw) and w.isalpha() == True:\n",
        "            no_sw.append(w.lower())\n",
        "    return no_sw\n",
        "\n",
        "\n",
        "def word_occureces(word):\n",
        "    occ=df['Speech'].map(lambda text: text.count(word)).sum()\n",
        "    return occ\n",
        "\n",
        "def word_occureces_country_year(word, country, year):\n",
        "    text = df_un_merged.loc[year,country][\"Speech\"]\n",
        "    words = word_tokenize(text)\n",
        "    words = preprocess(words).count(word)\n",
        "    return words\n",
        "\n",
        "def build_dict(word):\n",
        "#word_occureces(word)\n",
        "    occ_dict = {}\n",
        "    for year in range(1970, 2021):\n",
        "        occ_dict[year] = []\n",
        "\n",
        "    for tup in df.index:\n",
        "        occ_dict[tup[0]].append({tup[1]: word_occureces_country_year(word,tup[1],tup[0])})\n",
        "    print(occ_dict)\n",
        "    return occ_dict\n",
        "\n",
        "df = df_un_merged\n",
        "refugee_occ = build_dict(\"refugee\")\n",
        "emigrant_occ = build_dict('emigrant')\n",
        "migration_occ = build_dict('migrantion')\n",
        "migrant_occ = build_dict('migrant')\n",
        "immigration_occ = build_dict('immigration')\n",
        "immigrant_occ = build_dict('immigrant')\n",
        "    "
      ],
      "execution_count": null,
      "outputs": []
    },
    {
      "cell_type": "code",
      "metadata": {
        "id": "5aS2uwViUxe2"
      },
      "source": [
        "total_occ = {}\n",
        "total_year = {}\n",
        "i=0\n",
        "\n",
        "for year in range(1970, 2021):\n",
        "    g = np.array([list((list(d.values())[0]) for d in refugee_occ[year]), list((list(d.values())[0]) for d in emigrant_occ[year]),\n",
        "              list((list(d.values())[0]) for d in migration_occ[year]), list((list(d.values())[0]) for d in migrant_occ[year]), \n",
        "              list((list(d.values())[0]) for d in immigration_occ[year]), list((list(d.values())[0]) for d in immigrant_occ[year])]).sum(axis=0)\n",
        "    total_occ[year] = []\n",
        "    for i in range(len(g)):\n",
        "\n",
        "        total_occ[year].append({'Country':list(refugee_occ[year][i].keys())[0], 'Occurence': g[i]})\n"
      ],
      "execution_count": null,
      "outputs": []
    },
    {
      "cell_type": "code",
      "metadata": {
        "id": "AK0r0ktBU4fG"
      },
      "source": [
        "\n",
        "y=[year for year in range(1970, 2021)]\n",
        "x1=[]\n",
        "x2=[]\n",
        "x3=[]\n",
        "x4=[]\n",
        "x5=[]\n",
        "x6=[]\n",
        "x_tot=[]\n",
        "total=0\n",
        "for year in y:\n",
        "    \n",
        "    for d in refugee_occ[year]:\n",
        "        for key, value in d.items():\n",
        "            total += value\n",
        "    x1.append(total)\n",
        "    total = 0\n",
        "    \n",
        "    for d in emigrant_occ[year]:\n",
        "        for key, value in d.items():\n",
        "            total += value\n",
        "    x2.append(total)\n",
        "    total = 0\n",
        "    \n",
        "    for d in migration_occ[year]:\n",
        "        for key, value in d.items():\n",
        "            total += value\n",
        "    x3.append(total)\n",
        "    total = 0\n",
        "    \n",
        "    for d in migrant_occ[year]:\n",
        "        for key, value in d.items():\n",
        "            total += value\n",
        "    x4.append(total)\n",
        "    total = 0\n",
        "    \n",
        "    for d in immigration_occ[year]:\n",
        "        for key, value in d.items():\n",
        "            total += value\n",
        "    x5.append(total)\n",
        "    total = 0\n",
        "    \n",
        "    for d in immigrant_occ[year]:\n",
        "        for key, value in d.items():\n",
        "            total += value\n",
        "    x6.append(total)\n",
        "    total = 0\n",
        "    \n",
        "    x_tot.append(x1[year-1970]+x2[year-1970]+x3[year-1970]+x4[year-1970]+x5[year-1970]+x6[year-1970])\n",
        "\n"
      ],
      "execution_count": null,
      "outputs": []
    },
    {
      "cell_type": "code",
      "metadata": {
        "id": "xmhPc6P-U8Xk"
      },
      "source": [
        "fig, ax = plt.subplots()\n",
        "ax.plot(y, x_1 label = \"refugee\")\n",
        "ax.plot(y, x_tot, label = 'total')\n",
        "\n",
        "plt.legend()\n",
        "ax.set(xlabel='Year', ylabel='Occurence',\n",
        "       title='Occurence of the words over time (1970-2020)')\n",
        "ax.grid()\n",
        "# two spikes in 1979-1982 and 2015-2018 with high peaks in 1982, and 2015-2016\n",
        "plt.show()"
      ],
      "execution_count": null,
      "outputs": []
    },
    {
      "cell_type": "code",
      "metadata": {
        "id": "BPLg3FzSVFyI"
      },
      "source": [
        "import matplotlib.pyplot as plt\n",
        "fig, ax = plt.subplots()\n",
        "ax.plot(y, x1, label = \"refugee\")\n",
        "ax.plot(y, x2, label = 'emigrant')\n",
        "ax.plot(y, x3, label = 'migration')\n",
        "ax.plot(y, x4, label = 'migrant')\n",
        "ax.plot(y, x5, label = 'immigration')\n",
        "ax.plot(y, x6, label = 'immigrant')\n",
        "plt.legend()\n",
        "ax.set(xlabel='Year', ylabel='Occurence',\n",
        "       title='Occurence of the words over time (1970-2020)')\n",
        "ax.grid()\n",
        "\n",
        "plt.show()\n",
        "# two spikes in 1979-1982 and 2015-2018 with high peaks in 1982, and 2015-2016"
      ],
      "execution_count": null,
      "outputs": []
    },
    {
      "cell_type": "code",
      "metadata": {
        "id": "rxBE7SRrVJ-q"
      },
      "source": [
        "year = 2018\n",
        "title='Occurence of words related to Refugees by Country in '+year\n",
        "sorted_total = sorted(total_occ[year], key = lambda item: item['Occurence'], reverse=True)[:20]\n",
        "labels = [sorted_total[i]['Country'] for i in range(len(sorted_total))]\n",
        "values = [sorted_total[i]['Occurence'] for i in range(len(sorted_total))]\n",
        "\n",
        "fig, ax = plt.subplots()\n",
        "ax.bar(labels, values)\n",
        "ax.set(ylabel='Occurence',\n",
        "       title=title)\n",
        "fig.set_figwidth(10)\n",
        "plt.show()"
      ],
      "execution_count": null,
      "outputs": []
    },
    {
      "cell_type": "code",
      "metadata": {
        "id": "RnXSpHWpVlC0"
      },
      "source": [
        "from nltk.sentiment import SentimentIntensityAnalyzer\n",
        "\n",
        "year = 2018\n",
        "sia = SentimentIntensityAnalyzer()\n",
        "\n",
        "sorted_total = sorted(total_occ[year], key = lambda item: item['Occurence'], reverse=True)[:20]\n",
        "labels = [sorted_total[i]['Country'] for i in range(len(sorted_total))]\n",
        "values = [sia.polarity_scores(df_un_merged.loc(axis=0)[year,country][\"Speech\"])['neg'] for country in labels]\n",
        "\n",
        "fig, ax = plt.subplots()\n",
        "ax.bar(labels, values)\n",
        "ax.set(ylabel='Occurence',\n",
        "       title='Occurence of words related to Refugees Vs Number of Refugees between 1970 and 2020')\n",
        "fig.set_figwidth(10)\n",
        "plt.show()\n"
      ],
      "execution_count": null,
      "outputs": []
    },
    {
      "cell_type": "code",
      "metadata": {
        "id": "_Rka9Sh2VhjV"
      },
      "source": [
        "df_ref = pd.read_csv('population.csv', skiprows=14)\n",
        "df_ref = df_ref[['Year', 'Country of origin (ISO)', 'Country of asylum (ISO)', 'Refugees under UNHCR\\'s mandate']].set_index([\"Year\"])\n",
        "x_ref = list(df_ref.groupby(['Year']).sum()['Refugees under UNHCR\\'s mandate'])\n",
        "\n",
        "fig, ax1 = plt.subplots()\n",
        "\n",
        "color = 'tab:red'\n",
        "ax1.set_xlabel('Year')\n",
        "ax1.set_title('Occurence of words related to Refugees Vs Number of Refugees')\n",
        "ax1.set_ylabel('Occurences of words related to Refugees', color=color)\n",
        "ax1.plot(range(1970,2021), x_tot, color=color)\n",
        "ax1.tick_params(axis='y', labelcolor=color)\n",
        "\n",
        "ax2 = ax1.twinx()  # instantiate a second axes that shares the same x-axis\n",
        "\n",
        "color = 'tab:blue'\n",
        "ax2.set_ylabel('number of Refugees (1e7)', color=color)  # we already handled the x-label with ax1\n",
        "ax2.plot(range(1970,2021), x_ref, color=color)\n",
        "ax2.tick_params(axis='y', labelcolor=color)\n",
        "\n",
        "fig.tight_layout()  # otherwise the right y-label is slightly clipped\n",
        "plt.show()\n"
      ],
      "execution_count": null,
      "outputs": []
    },
    {
      "cell_type": "code",
      "metadata": {
        "id": "XZbmJ8s_Vq52"
      },
      "source": [
        "fig.savefig('Occurence of words related to Refugees Vs Number of Refugees.png')"
      ],
      "execution_count": null,
      "outputs": []
    }
  ]
}
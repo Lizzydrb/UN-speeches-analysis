{
 "cells": [
  {
   "cell_type": "markdown",
   "source": [
    "<h1><center> Assignment 1: EDA United Nations General Debate Corpus  </center></h1>"
   ],
   "metadata": {
    "id": "2735c935"
   }
  },
  {
   "cell_type": "markdown",
   "source": [
    "Import the files containing speeches from year 1970 until 2020 and turn it into a data frame."
   ],
   "metadata": {}
  },
  {
   "cell_type": "code",
   "execution_count": 4,
   "source": [
    "import os\n",
    "import numpy as np\n",
    "import pandas as pd\n",
    "import re\n",
    "\n",
    "# Code provided by lab 3\n",
    "sessions = np.arange(25, 76)\n",
    "data=[]\n",
    "\n",
    "for session in sessions:\n",
    "    directory = \"./TXT/Session \"+str(session)+\" - \"+str(1945+session)\n",
    "    for filename in os.listdir(directory):\n",
    "        f = open(os.path.join(directory, filename), encoding = 'utf8')\n",
    "        if filename[0]==\".\": #ignore hidden files\n",
    "            continue\n",
    "        splt = filename.split(\"_\")\n",
    "        data.append([session, 1945+session, splt[0], f.read()])\n",
    "\n",
    "        \n",
    "df_speech = pd.DataFrame(data, columns=['Session','Year','ISO-alpha3 Code','Speech'])"
   ],
   "outputs": [],
   "metadata": {
    "id": "cd0b3ce3",
    "outputId": "2389f396-4af3-408f-ead4-16e595e79676"
   }
  },
  {
   "cell_type": "code",
   "execution_count": 5,
   "source": [
    "# Country names and code dataset\n",
    "iso = pd.read_csv('country_ISO.csv')"
   ],
   "outputs": [],
   "metadata": {}
  },
  {
   "cell_type": "markdown",
   "source": [
    "Import file containing general information about counties taking part in the UNSD."
   ],
   "metadata": {
    "id": "072f332c"
   }
  },
  {
   "cell_type": "code",
   "execution_count": 6,
   "source": [
    "df_codes = pd.read_csv('UNSD — Methodology.csv') # Something to think about is if this data is optimal as it does \n",
    "                                                 # not contain a year or any sort of changes, it is just the most \n",
    "                                                 # recent status which might not have been the same as in 1970, \n",
    "                                                 # see: https://unstats.un.org/unsd/methodology/m49/#changes"
   ],
   "outputs": [],
   "metadata": {
    "id": "60e54e04",
    "outputId": "2dda9a07-4c8b-4e52-e8a0-744f58857013"
   }
  },
  {
   "cell_type": "markdown",
   "source": [
    "Combine the speech data frame and the general information data frame."
   ],
   "metadata": {
    "id": "9375758b"
   }
  },
  {
   "cell_type": "code",
   "execution_count": 7,
   "source": [
    "df = df_speech.merge(df_codes, on=\"ISO-alpha3 Code\", how=\"left\") # A left join is used as we want the\n",
    "                                                                 # data to be joined for every row\n",
    "df.set_index([\"Year\"], inplace = True)                           # Creates indexed data frame"
   ],
   "outputs": [],
   "metadata": {
    "id": "684d4dc6"
   }
  },
  {
   "cell_type": "markdown",
   "source": [
    "The Natural Language Toolkit (NLTK) will be used for pre-processing and text analysis."
   ],
   "metadata": {
    "id": "fbc0358d"
   }
  },
  {
   "cell_type": "code",
   "execution_count": 1,
   "source": [
    "import nltk\n",
    "\n",
    "nltk.download(\"wordnet\")\n",
    "nltk.download(\"stopwords\")\n",
    "nltk.download('punkt')\n",
    "\n",
    "from nltk.corpus import wordnet\n",
    "from nltk.corpus import stopwords\n",
    "from nltk.stem import WordNetLemmatizer\n",
    "from nltk import word_tokenize, pos_tag\n",
    "\n",
    "stop_words = set(stopwords.words(\"english\"))\n",
    "\n",
    "lemmatizer = WordNetLemmatizer()"
   ],
   "outputs": [
    {
     "output_type": "stream",
     "name": "stderr",
     "text": [
      "[nltk_data] Downloading package wordnet to\n",
      "[nltk_data]     /Users/dimitrihooftman/nltk_data...\n",
      "[nltk_data]   Package wordnet is already up-to-date!\n",
      "[nltk_data] Downloading package stopwords to\n",
      "[nltk_data]     /Users/dimitrihooftman/nltk_data...\n",
      "[nltk_data]   Package stopwords is already up-to-date!\n",
      "[nltk_data] Downloading package punkt to\n",
      "[nltk_data]     /Users/dimitrihooftman/nltk_data...\n",
      "[nltk_data]   Package punkt is already up-to-date!\n"
     ]
    }
   ],
   "metadata": {
    "id": "d49d6e45",
    "outputId": "77120fca-6e61-45a6-c938-dc6bbe16bfb9",
    "scrolled": true
   }
  },
  {
   "cell_type": "markdown",
   "source": [
    "Create some reusable functions."
   ],
   "metadata": {}
  },
  {
   "cell_type": "code",
   "execution_count": 223,
   "source": [
    "def clean_string(text):                                          # Resource used: https://monkeylearn.com/blog/text-cleaning/\n",
    "    text = text.lower()                                          # Set all text to lower string\n",
    "    text = re.sub(r\"http.*?(?=\\s)\", \"\", text)                    # Remove URL's\n",
    "    text = re.sub(r\"[^A-z\\s]\", \"\", text)                         # Remove punctuation and numbers\n",
    "    text = re.sub(\" +\", \" \", text)                               # Remove multiple spaces\n",
    "    text = re.sub(\"united nations\", \"UN\",text)\n",
    "    text = re.sub(\"united states\", \"unitedstates\",text)\n",
    "    \n",
    "    word_tokens = nltk.word_tokenize(text)\n",
    "          \n",
    "    filtered_text = [] \n",
    "\n",
    "    for token in word_tokens:                                    # Remove stop words\n",
    "        if token not in stop_words:\n",
    "            filtered_text.append(token) \n",
    "    \n",
    "    lemmatized_text = []\n",
    "    \n",
    "    for word in filtered_text:                                   # Group words having the same meaning\n",
    "         lemmatized_text.append(lemmatizer.lemmatize(word))\n",
    "\n",
    "    return \" \".join(lemmatized_text)"
   ],
   "outputs": [],
   "metadata": {}
  },
  {
   "cell_type": "markdown",
   "source": [
    "Q4.1: Are terrorism related words used more often after a terrorist attack taking place?"
   ],
   "metadata": {}
  },
  {
   "cell_type": "code",
   "execution_count": 309,
   "source": [
    "from nltk.probability import FreqDist\n",
    "\n",
    "df_q4_1 = df\n",
    "\n",
    "terrorism_count = pd.DataFrame()\n",
    "\n",
    "for year, data in df_q4_1.iterrows():\n",
    "    terrorism_related_words = {                                                        # From https://relatedwords.org/relatedto/terrorism, this list could be larger\n",
    "        \"terrorism\" : 0,\n",
    "        \"terrorization\" : 0,\n",
    "        \"violence\" : 0,\n",
    "        \"terror\" : 0,\n",
    "        \"qaeda\" : 0,\n",
    "        \"fear\" : 0,\n",
    "        \"ideology\" : 0,\n",
    "        \"reign\" : 0,\n",
    "        \"insurgent\" : 0,\n",
    "    }\n",
    "\n",
    "    cleaned_speech = clean_string(data[[\"Speech\"]][0])\n",
    "\n",
    "    for word in nltk.word_tokenize(cleaned_speech):\n",
    "        if word in terrorism_related_words:                      \n",
    "            terrorism_related_words[word] += 1\n",
    "    \n",
    "    terrorism_related_words[\"year\"] = year\n",
    "\n",
    "    terrorism_count = terrorism_count.append(terrorism_related_words, ignore_index=True)\n",
    "\n",
    "terrorism_count.insert(0, \"year\", terrorism_count.pop(\"year\"))\n",
    "\n",
    "terrorism_count.to_csv('./terrorism_count.csv', sep=',', index = None, encoding='utf-8', header='true')"
   ],
   "outputs": [],
   "metadata": {}
  },
  {
   "cell_type": "code",
   "execution_count": 380,
   "source": [
    "import matplotlib.pyplot as plt\n",
    "import numpy as np\n",
    "import seaborn as sns\n",
    "\n",
    "terrorism_count = pd.read_csv('terrorism_count.csv')\n",
    "\n",
    "terrorism_count = terrorism_count.groupby(\"year\").sum()\n",
    "plt.plot(terrorism_count)\n",
    "\n",
    "plt.legend(terrorism_count.columns)\n",
    "plt.xlabel(\"Year\")\n",
    "plt.ylabel(\"# word used\")\n",
    "plt.title(\"Usage of terrorism related words\")"
   ],
   "outputs": [
    {
     "output_type": "execute_result",
     "data": {
      "text/plain": [
       "Text(0.5, 1.0, 'Usage of terrorism related words')"
      ]
     },
     "metadata": {},
     "execution_count": 380
    },
    {
     "output_type": "display_data",
     "data": {
      "image/png": "[encoded data removed]",
      "text/plain": [
       "<Figure size 432x288 with 1 Axes>"
      ]
     },
     "metadata": {
      "needs_background": "light"
     }
    }
   ],
   "metadata": {}
  },
  {
   "cell_type": "markdown",
   "source": [
    "Q4.2: By whom and how much is a country referred to by other countries in the year after a terrorist attack?"
   ],
   "metadata": {}
  },
  {
   "cell_type": "code",
   "execution_count": 228,
   "source": [
    "def save_referrences_by_countries():\n",
    "    df_q4_2 = df\n",
    "\n",
    "    country_names_q4_2 = df_q4_2.reset_index()[[\"Country or Area\", \"ISO-alpha3 Code\"]].drop_duplicates().dropna()       # Get a list of full names with their ISO code\n",
    "    country_names_q4_2[\"Country or Area\"] = country_names_q4_2[\"Country or Area\"].apply(lambda name: name.lower())\n",
    "\n",
    "    country_names_q4_2[\"Country or Area\"].replace({\"united states of america\": \"unitedstates\"}, inplace=True)           # This will probably have to be done for more country's\n",
    "\n",
    "    country_names_dict_q4_2 = dict(country_names_q4_2.values)\n",
    "\n",
    "    referrer_count = pd.DataFrame()\n",
    "\n",
    "    for i, row in df_q4_2.iterrows():                                                                                   # Go through all speeches\n",
    "        referrer_count_year = dict()\n",
    "\n",
    "        referrer_count_year[\"Year\"] = i\n",
    "        referrer_count_year[\"ISO-alpha3 Code\"] = row[\"ISO-alpha3 Code\"]\n",
    "\n",
    "        speech = clean_string(row[\"Speech\"])                                                                            # Clean speech text\n",
    "\n",
    "        speech_tokens = nltk.word_tokenize(speech)                                                                      # Split text into words for individual analysis\n",
    "\n",
    "        for word in speech_tokens:                                                                                      # Go through individual words in speech\n",
    "            \n",
    "            if word in country_names_dict_q4_2:\n",
    "                country_name = word\n",
    "                country_code = country_names_dict_q4_2[word]\n",
    "\n",
    "                if country_code != row[\"ISO-alpha3 Code\"] and country_name.lower() in word:                             # If country mentioned another country, add to counter in dictionary\n",
    "                    if country_code in referrer_count_year:\n",
    "                        referrer_count_year[country_code] += 1\n",
    "                    else:\n",
    "                        referrer_count_year[country_code] = 1\n",
    "\n",
    "        referrer_count = referrer_count.append(referrer_count_year, ignore_index=True)\n",
    "\n",
    "    referrer_count.insert(0, \"ISO-alpha3 Code\", referrer_count.pop(\"ISO-alpha3 Code\"))\n",
    "    referrer_count.insert(1, \"Year\", referrer_count.pop(\"Year\"))\n",
    "    referrer_count = referrer_count.fillna(0)\n",
    "\n",
    "    referrer_count.to_csv('./referrences.csv', sep=',', index = None, encoding='utf-8', header='true')\n",
    "\n",
    "# save_referrences_by_countries()"
   ],
   "outputs": [],
   "metadata": {}
  },
  {
   "cell_type": "code",
   "execution_count": 240,
   "source": [
    "referrences = pd.read_csv('referrences.csv')\n",
    "\n",
    "per_year = referrences.sum().drop(labels=[\"ISO-alpha3 Code\", \"Year\"]).sort_values(ascending=False)\n",
    "\n",
    "plt.plot(per_year.iloc[:12])\n",
    "\n",
    "plt.xlabel(\"ISO-alpha3 Code\")\n",
    "plt.ylabel(\"# referred to\")\n",
    "plt.title(\"Top 12 referred to country's\")\n",
    "\n",
    "plt.show()"
   ],
   "outputs": [
    {
     "output_type": "display_data",
     "data": {
      "image/png": "[encoded data removed]",
      "text/plain": [
       "<Figure size 432x288 with 1 Axes>"
      ]
     },
     "metadata": {
      "needs_background": "light"
     }
    }
   ],
   "metadata": {}
  },
  {
   "cell_type": "code",
   "execution_count": 269,
   "source": [
    "use_referred_per_year = referrences.groupby(\"Year\").sum()[[\"USA\"]].loc[1995.0:2005.0]\n",
    "\n",
    "plt.plot(use_referred_per_year)\n",
    "\n",
    "plt.xlabel(\"Year\")\n",
    "plt.ylabel(\"# referred to\")\n",
    "plt.title(\"Referrences to USA\")\n",
    "\n",
    "plt.show()                                                                                 # We see a spike after the US Embassy Bombings and September 11 attacks of country's referring to the USA"
   ],
   "outputs": [
    {
     "output_type": "display_data",
     "data": {
      "image/png": "[encoded data removed]",
      "text/plain": [
       "<Figure size 432x288 with 1 Axes>"
      ]
     },
     "metadata": {
      "needs_background": "light"
     }
    }
   ],
   "metadata": {}
  },
  {
   "cell_type": "code",
   "execution_count": 271,
   "source": [
    "use_referred_per_year = referrences.groupby(\"Year\").sum()[[\"IRQ\"]].loc[2000.0:2012.0]\n",
    "\n",
    "plt.plot(use_referred_per_year)\n",
    "\n",
    "plt.xlabel(\"Year\")\n",
    "plt.ylabel(\"# referred to\")\n",
    "plt.title(\"Referrences to Iraq\")\n",
    "\n",
    "plt.show()         "
   ],
   "outputs": [
    {
     "output_type": "display_data",
     "data": {
      "image/png": "[encoded data removed]",
      "text/plain": [
       "<Figure size 432x288 with 1 Axes>"
      ]
     },
     "metadata": {
      "needs_background": "light"
     }
    }
   ],
   "metadata": {}
  },
  {
   "cell_type": "code",
   "execution_count": 379,
   "source": [
    "usa_referrences = referrences[referrences[\"ISO-alpha3 Code\"] == \"USA\"]\n",
    "usa_referrences = usa_referrences.drop(\"ISO-alpha3 Code\", axis = 1)\n",
    "usa_referrences = usa_referrences.set_index(\"Year\")\n",
    "\n",
    "top_10_mentioned = usa_referrences.sum().nlargest(10).index\n",
    "\n",
    "usa_referrences = usa_referrences[['IRQ', 'ISR', 'CHN', 'AFG', 'LBN', 'CYP', 'UKR', 'NAM', 'EGY', 'KHM']]\n",
    "\n",
    "plt.plot(usa_referrences)\n",
    "\n",
    "plt.legend(usa_referrences)\n",
    "plt.xlabel(\"Year\")\n",
    "plt.ylabel(\"# referred to\")\n",
    "plt.title(\"USA's referrences to Iraq\")\n",
    "\n",
    "plt.show()       "
   ],
   "outputs": [
    {
     "output_type": "display_data",
     "data": {
      "image/png": "[encoded data removed]",
      "text/plain": [
       "<Figure size 432x288 with 1 Axes>"
      ]
     },
     "metadata": {
      "needs_background": "light"
     }
    }
   ],
   "metadata": {}
  },
  {
   "cell_type": "code",
   "execution_count": 53,
   "source": [
    "# Have countries always participated? # visualization of what countries participated to UN speeches through time\n",
    "# df['ISO-alpha2 Code'].value_counts().plot(kind='hist')\n",
    "# df['ISO-alpha2 Code'].value_counts() #194 countries, 193 members so probably east germany?\n",
    "df.groupby(by='Year')['ISO-alpha2 Code'].value_counts()"
   ],
   "outputs": [
    {
     "output_type": "execute_result",
     "data": {
      "text/plain": [
       "Year  ISO-alpha2 Code\n",
       "1970  AL                 1\n",
       "      AR                 1\n",
       "      AT                 1\n",
       "      AU                 1\n",
       "      BE                 1\n",
       "                        ..\n",
       "2020  WS                 1\n",
       "      YE                 1\n",
       "      ZA                 1\n",
       "      ZM                 1\n",
       "      ZW                 1\n",
       "Name: ISO-alpha2 Code, Length: 8353, dtype: int64"
      ]
     },
     "metadata": {},
     "execution_count": 53
    }
   ],
   "metadata": {}
  },
  {
   "cell_type": "markdown",
   "source": [
    "## Adam Ideas for alternative datasets:"
   ],
   "metadata": {}
  },
  {
   "cell_type": "markdown",
   "source": [
    "military expenditure:\n",
    "https://data.worldbank.org/indicator/MS.MIL.XPND.GD.ZS"
   ],
   "metadata": {}
  },
  {
   "cell_type": "markdown",
   "source": [
    "Please note, the below dataset still needs to be cleaned further"
   ],
   "metadata": {}
  },
  {
   "cell_type": "code",
   "execution_count": null,
   "source": [
    "import matplotlib.pyplot as plt\n",
    "import seaborn as sns\n",
    "\n",
    "df_mil = pd.read_excel(\"Military_exp.xlsx\")\n",
    "df_mil.info()\n",
    "df_mil"
   ],
   "outputs": [
    {
     "output_type": "error",
     "ename": "XLRDError",
     "evalue": "Excel xlsx file; not supported",
     "traceback": [
      "\u001b[0;31m---------------------------------------------------------------------------\u001b[0m",
      "\u001b[0;31mXLRDError\u001b[0m                                 Traceback (most recent call last)",
      "\u001b[0;32m<ipython-input-21-eb6d4c8b77ca>\u001b[0m in \u001b[0;36m<module>\u001b[0;34m\u001b[0m\n\u001b[1;32m      2\u001b[0m \u001b[0;32mimport\u001b[0m \u001b[0mseaborn\u001b[0m \u001b[0;32mas\u001b[0m \u001b[0msns\u001b[0m\u001b[0;34m\u001b[0m\u001b[0;34m\u001b[0m\u001b[0m\n\u001b[1;32m      3\u001b[0m \u001b[0;34m\u001b[0m\u001b[0m\n\u001b[0;32m----> 4\u001b[0;31m \u001b[0mdf_mil\u001b[0m \u001b[0;34m=\u001b[0m \u001b[0mpd\u001b[0m\u001b[0;34m.\u001b[0m\u001b[0mread_excel\u001b[0m\u001b[0;34m(\u001b[0m\u001b[0;34m\"Military_exp.xlsx\"\u001b[0m\u001b[0;34m)\u001b[0m\u001b[0;34m\u001b[0m\u001b[0;34m\u001b[0m\u001b[0m\n\u001b[0m\u001b[1;32m      5\u001b[0m \u001b[0mdf_mil\u001b[0m\u001b[0;34m.\u001b[0m\u001b[0minfo\u001b[0m\u001b[0;34m(\u001b[0m\u001b[0;34m)\u001b[0m\u001b[0;34m\u001b[0m\u001b[0;34m\u001b[0m\u001b[0m\n\u001b[1;32m      6\u001b[0m \u001b[0mdf_mil\u001b[0m\u001b[0;34m\u001b[0m\u001b[0;34m\u001b[0m\u001b[0m\n",
      "\u001b[0;32m~/.conda/envs/campaign_insights/lib/python3.8/site-packages/pandas/util/_decorators.py\u001b[0m in \u001b[0;36mwrapper\u001b[0;34m(*args, **kwargs)\u001b[0m\n\u001b[1;32m    206\u001b[0m                 \u001b[0;32melse\u001b[0m\u001b[0;34m:\u001b[0m\u001b[0;34m\u001b[0m\u001b[0;34m\u001b[0m\u001b[0m\n\u001b[1;32m    207\u001b[0m                     \u001b[0mkwargs\u001b[0m\u001b[0;34m[\u001b[0m\u001b[0mnew_arg_name\u001b[0m\u001b[0;34m]\u001b[0m \u001b[0;34m=\u001b[0m \u001b[0mnew_arg_value\u001b[0m\u001b[0;34m\u001b[0m\u001b[0;34m\u001b[0m\u001b[0m\n\u001b[0;32m--> 208\u001b[0;31m             \u001b[0;32mreturn\u001b[0m \u001b[0mfunc\u001b[0m\u001b[0;34m(\u001b[0m\u001b[0;34m*\u001b[0m\u001b[0margs\u001b[0m\u001b[0;34m,\u001b[0m \u001b[0;34m**\u001b[0m\u001b[0mkwargs\u001b[0m\u001b[0;34m)\u001b[0m\u001b[0;34m\u001b[0m\u001b[0;34m\u001b[0m\u001b[0m\n\u001b[0m\u001b[1;32m    209\u001b[0m \u001b[0;34m\u001b[0m\u001b[0m\n\u001b[1;32m    210\u001b[0m         \u001b[0;32mreturn\u001b[0m \u001b[0mwrapper\u001b[0m\u001b[0;34m\u001b[0m\u001b[0;34m\u001b[0m\u001b[0m\n",
      "\u001b[0;32m~/.conda/envs/campaign_insights/lib/python3.8/site-packages/pandas/io/excel/_base.py\u001b[0m in \u001b[0;36mread_excel\u001b[0;34m(io, sheet_name, header, names, index_col, usecols, squeeze, dtype, engine, converters, true_values, false_values, skiprows, nrows, na_values, keep_default_na, verbose, parse_dates, date_parser, thousands, comment, skip_footer, skipfooter, convert_float, mangle_dupe_cols, **kwds)\u001b[0m\n\u001b[1;32m    308\u001b[0m \u001b[0;34m\u001b[0m\u001b[0m\n\u001b[1;32m    309\u001b[0m     \u001b[0;32mif\u001b[0m \u001b[0;32mnot\u001b[0m \u001b[0misinstance\u001b[0m\u001b[0;34m(\u001b[0m\u001b[0mio\u001b[0m\u001b[0;34m,\u001b[0m \u001b[0mExcelFile\u001b[0m\u001b[0;34m)\u001b[0m\u001b[0;34m:\u001b[0m\u001b[0;34m\u001b[0m\u001b[0;34m\u001b[0m\u001b[0m\n\u001b[0;32m--> 310\u001b[0;31m         \u001b[0mio\u001b[0m \u001b[0;34m=\u001b[0m \u001b[0mExcelFile\u001b[0m\u001b[0;34m(\u001b[0m\u001b[0mio\u001b[0m\u001b[0;34m,\u001b[0m \u001b[0mengine\u001b[0m\u001b[0;34m=\u001b[0m\u001b[0mengine\u001b[0m\u001b[0;34m)\u001b[0m\u001b[0;34m\u001b[0m\u001b[0;34m\u001b[0m\u001b[0m\n\u001b[0m\u001b[1;32m    311\u001b[0m     \u001b[0;32melif\u001b[0m \u001b[0mengine\u001b[0m \u001b[0;32mand\u001b[0m \u001b[0mengine\u001b[0m \u001b[0;34m!=\u001b[0m \u001b[0mio\u001b[0m\u001b[0;34m.\u001b[0m\u001b[0mengine\u001b[0m\u001b[0;34m:\u001b[0m\u001b[0;34m\u001b[0m\u001b[0;34m\u001b[0m\u001b[0m\n\u001b[1;32m    312\u001b[0m         raise ValueError(\n",
      "\u001b[0;32m~/.conda/envs/campaign_insights/lib/python3.8/site-packages/pandas/io/excel/_base.py\u001b[0m in \u001b[0;36m__init__\u001b[0;34m(self, io, engine)\u001b[0m\n\u001b[1;32m    817\u001b[0m         \u001b[0mself\u001b[0m\u001b[0;34m.\u001b[0m\u001b[0m_io\u001b[0m \u001b[0;34m=\u001b[0m \u001b[0m_stringify_path\u001b[0m\u001b[0;34m(\u001b[0m\u001b[0mio\u001b[0m\u001b[0;34m)\u001b[0m\u001b[0;34m\u001b[0m\u001b[0;34m\u001b[0m\u001b[0m\n\u001b[1;32m    818\u001b[0m \u001b[0;34m\u001b[0m\u001b[0m\n\u001b[0;32m--> 819\u001b[0;31m         \u001b[0mself\u001b[0m\u001b[0;34m.\u001b[0m\u001b[0m_reader\u001b[0m \u001b[0;34m=\u001b[0m \u001b[0mself\u001b[0m\u001b[0;34m.\u001b[0m\u001b[0m_engines\u001b[0m\u001b[0;34m[\u001b[0m\u001b[0mengine\u001b[0m\u001b[0;34m]\u001b[0m\u001b[0;34m(\u001b[0m\u001b[0mself\u001b[0m\u001b[0;34m.\u001b[0m\u001b[0m_io\u001b[0m\u001b[0;34m)\u001b[0m\u001b[0;34m\u001b[0m\u001b[0;34m\u001b[0m\u001b[0m\n\u001b[0m\u001b[1;32m    820\u001b[0m \u001b[0;34m\u001b[0m\u001b[0m\n\u001b[1;32m    821\u001b[0m     \u001b[0;32mdef\u001b[0m \u001b[0m__fspath__\u001b[0m\u001b[0;34m(\u001b[0m\u001b[0mself\u001b[0m\u001b[0;34m)\u001b[0m\u001b[0;34m:\u001b[0m\u001b[0;34m\u001b[0m\u001b[0;34m\u001b[0m\u001b[0m\n",
      "\u001b[0;32m~/.conda/envs/campaign_insights/lib/python3.8/site-packages/pandas/io/excel/_xlrd.py\u001b[0m in \u001b[0;36m__init__\u001b[0;34m(self, filepath_or_buffer)\u001b[0m\n\u001b[1;32m     19\u001b[0m         \u001b[0merr_msg\u001b[0m \u001b[0;34m=\u001b[0m \u001b[0;34m\"Install xlrd >= 1.0.0 for Excel support\"\u001b[0m\u001b[0;34m\u001b[0m\u001b[0;34m\u001b[0m\u001b[0m\n\u001b[1;32m     20\u001b[0m         \u001b[0mimport_optional_dependency\u001b[0m\u001b[0;34m(\u001b[0m\u001b[0;34m\"xlrd\"\u001b[0m\u001b[0;34m,\u001b[0m \u001b[0mextra\u001b[0m\u001b[0;34m=\u001b[0m\u001b[0merr_msg\u001b[0m\u001b[0;34m)\u001b[0m\u001b[0;34m\u001b[0m\u001b[0;34m\u001b[0m\u001b[0m\n\u001b[0;32m---> 21\u001b[0;31m         \u001b[0msuper\u001b[0m\u001b[0;34m(\u001b[0m\u001b[0;34m)\u001b[0m\u001b[0;34m.\u001b[0m\u001b[0m__init__\u001b[0m\u001b[0;34m(\u001b[0m\u001b[0mfilepath_or_buffer\u001b[0m\u001b[0;34m)\u001b[0m\u001b[0;34m\u001b[0m\u001b[0;34m\u001b[0m\u001b[0m\n\u001b[0m\u001b[1;32m     22\u001b[0m \u001b[0;34m\u001b[0m\u001b[0m\n\u001b[1;32m     23\u001b[0m     \u001b[0;34m@\u001b[0m\u001b[0mproperty\u001b[0m\u001b[0;34m\u001b[0m\u001b[0;34m\u001b[0m\u001b[0m\n",
      "\u001b[0;32m~/.conda/envs/campaign_insights/lib/python3.8/site-packages/pandas/io/excel/_base.py\u001b[0m in \u001b[0;36m__init__\u001b[0;34m(self, filepath_or_buffer)\u001b[0m\n\u001b[1;32m    357\u001b[0m             \u001b[0mself\u001b[0m\u001b[0;34m.\u001b[0m\u001b[0mbook\u001b[0m \u001b[0;34m=\u001b[0m \u001b[0mself\u001b[0m\u001b[0;34m.\u001b[0m\u001b[0mload_workbook\u001b[0m\u001b[0;34m(\u001b[0m\u001b[0mfilepath_or_buffer\u001b[0m\u001b[0;34m)\u001b[0m\u001b[0;34m\u001b[0m\u001b[0;34m\u001b[0m\u001b[0m\n\u001b[1;32m    358\u001b[0m         \u001b[0;32melif\u001b[0m \u001b[0misinstance\u001b[0m\u001b[0;34m(\u001b[0m\u001b[0mfilepath_or_buffer\u001b[0m\u001b[0;34m,\u001b[0m \u001b[0mstr\u001b[0m\u001b[0;34m)\u001b[0m\u001b[0;34m:\u001b[0m\u001b[0;34m\u001b[0m\u001b[0;34m\u001b[0m\u001b[0m\n\u001b[0;32m--> 359\u001b[0;31m             \u001b[0mself\u001b[0m\u001b[0;34m.\u001b[0m\u001b[0mbook\u001b[0m \u001b[0;34m=\u001b[0m \u001b[0mself\u001b[0m\u001b[0;34m.\u001b[0m\u001b[0mload_workbook\u001b[0m\u001b[0;34m(\u001b[0m\u001b[0mfilepath_or_buffer\u001b[0m\u001b[0;34m)\u001b[0m\u001b[0;34m\u001b[0m\u001b[0;34m\u001b[0m\u001b[0m\n\u001b[0m\u001b[1;32m    360\u001b[0m         \u001b[0;32melse\u001b[0m\u001b[0;34m:\u001b[0m\u001b[0;34m\u001b[0m\u001b[0;34m\u001b[0m\u001b[0m\n\u001b[1;32m    361\u001b[0m             raise ValueError(\n",
      "\u001b[0;32m~/.conda/envs/campaign_insights/lib/python3.8/site-packages/pandas/io/excel/_xlrd.py\u001b[0m in \u001b[0;36mload_workbook\u001b[0;34m(self, filepath_or_buffer)\u001b[0m\n\u001b[1;32m     34\u001b[0m             \u001b[0;32mreturn\u001b[0m \u001b[0mopen_workbook\u001b[0m\u001b[0;34m(\u001b[0m\u001b[0mfile_contents\u001b[0m\u001b[0;34m=\u001b[0m\u001b[0mdata\u001b[0m\u001b[0;34m)\u001b[0m\u001b[0;34m\u001b[0m\u001b[0;34m\u001b[0m\u001b[0m\n\u001b[1;32m     35\u001b[0m         \u001b[0;32melse\u001b[0m\u001b[0;34m:\u001b[0m\u001b[0;34m\u001b[0m\u001b[0;34m\u001b[0m\u001b[0m\n\u001b[0;32m---> 36\u001b[0;31m             \u001b[0;32mreturn\u001b[0m \u001b[0mopen_workbook\u001b[0m\u001b[0;34m(\u001b[0m\u001b[0mfilepath_or_buffer\u001b[0m\u001b[0;34m)\u001b[0m\u001b[0;34m\u001b[0m\u001b[0;34m\u001b[0m\u001b[0m\n\u001b[0m\u001b[1;32m     37\u001b[0m \u001b[0;34m\u001b[0m\u001b[0m\n\u001b[1;32m     38\u001b[0m     \u001b[0;34m@\u001b[0m\u001b[0mproperty\u001b[0m\u001b[0;34m\u001b[0m\u001b[0;34m\u001b[0m\u001b[0m\n",
      "\u001b[0;32m~/.conda/envs/campaign_insights/lib/python3.8/site-packages/xlrd/__init__.py\u001b[0m in \u001b[0;36mopen_workbook\u001b[0;34m(filename, logfile, verbosity, use_mmap, file_contents, encoding_override, formatting_info, on_demand, ragged_rows, ignore_workbook_corruption)\u001b[0m\n\u001b[1;32m    168\u001b[0m     \u001b[0;31m# files that xlrd can parse don't start with the expected signature.\u001b[0m\u001b[0;34m\u001b[0m\u001b[0;34m\u001b[0m\u001b[0;34m\u001b[0m\u001b[0m\n\u001b[1;32m    169\u001b[0m     \u001b[0;32mif\u001b[0m \u001b[0mfile_format\u001b[0m \u001b[0;32mand\u001b[0m \u001b[0mfile_format\u001b[0m \u001b[0;34m!=\u001b[0m \u001b[0;34m'xls'\u001b[0m\u001b[0;34m:\u001b[0m\u001b[0;34m\u001b[0m\u001b[0;34m\u001b[0m\u001b[0m\n\u001b[0;32m--> 170\u001b[0;31m         \u001b[0;32mraise\u001b[0m \u001b[0mXLRDError\u001b[0m\u001b[0;34m(\u001b[0m\u001b[0mFILE_FORMAT_DESCRIPTIONS\u001b[0m\u001b[0;34m[\u001b[0m\u001b[0mfile_format\u001b[0m\u001b[0;34m]\u001b[0m\u001b[0;34m+\u001b[0m\u001b[0;34m'; not supported'\u001b[0m\u001b[0;34m)\u001b[0m\u001b[0;34m\u001b[0m\u001b[0;34m\u001b[0m\u001b[0m\n\u001b[0m\u001b[1;32m    171\u001b[0m \u001b[0;34m\u001b[0m\u001b[0m\n\u001b[1;32m    172\u001b[0m     bk = open_workbook_xls(\n",
      "\u001b[0;31mXLRDError\u001b[0m: Excel xlsx file; not supported"
     ]
    }
   ],
   "metadata": {}
  },
  {
   "cell_type": "markdown",
   "source": [
    "### Which years had the highest defense budget?"
   ],
   "metadata": {}
  },
  {
   "cell_type": "code",
   "execution_count": null,
   "source": [
    "# df_mil_years = df_mil.groupby('Country Name').aggregate(max)\n",
    "# df_mil_years\n",
    "\n",
    "df_mil_years = df_mil.max(skipna=True)\n",
    "print(df_mil_years)\n"
   ],
   "outputs": [
    {
     "output_type": "stream",
     "name": "stdout",
     "text": [
      "Country Name                             Zimbabwe\n",
      "Country Code                                  ZWE\n",
      "Indicator Name                                YEM\n",
      "Indicator Code    Military expenditure (% of GDP)\n",
      "1961                            954491725768322.0\n",
      "                               ...               \n",
      "2017                            963578793806571.0\n",
      "2018                            946920102452611.0\n",
      "2019                            863769124071412.0\n",
      "2020                            844759894618144.0\n",
      "Unnamed: 65                     338433055518262.0\n",
      "Length: 65, dtype: object\n"
     ]
    },
    {
     "output_type": "stream",
     "name": "stderr",
     "text": [
      "C:\\Users\\GEBRUI~1\\AppData\\Local\\Temp/ipykernel_13256/963454889.py:4: FutureWarning: Dropping of nuisance columns in DataFrame reductions (with 'numeric_only=None') is deprecated; in a future version this will raise TypeError.  Select only valid columns before calling the reduction.\n",
      "  df_mil_years = df_mil.max(skipna=True)\n"
     ]
    }
   ],
   "metadata": {}
  },
  {
   "cell_type": "code",
   "execution_count": null,
   "source": [
    "\n",
    "df_mil['Total'] = df_mil.sum(axis=1,skipna=True) \n",
    "df_mil['Total']"
   ],
   "outputs": [
    {
     "output_type": "stream",
     "name": "stderr",
     "text": [
      "C:\\Users\\GEBRUI~1\\AppData\\Local\\Temp/ipykernel_13256/130026254.py:1: FutureWarning: Dropping of nuisance columns in DataFrame reductions (with 'numeric_only=None') is deprecated; in a future version this will raise TypeError.  Select only valid columns before calling the reduction.\n",
      "  df_mil['Total'] = df_mil.sum(axis=1,skipna=True)\n"
     ]
    },
    {
     "output_type": "execute_result",
     "data": {
      "text/plain": [
       "0      0.000000e+00\n",
       "1      5.450306e+16\n",
       "2      1.235498e+16\n",
       "3      2.943992e+16\n",
       "4      3.880998e+16\n",
       "           ...     \n",
       "261    4.242210e+14\n",
       "262    4.498946e+16\n",
       "263    5.076296e+16\n",
       "264    2.087776e+16\n",
       "265    6.544512e+16\n",
       "Name: Total, Length: 266, dtype: float64"
      ]
     },
     "metadata": {},
     "execution_count": 119
    }
   ],
   "metadata": {}
  },
  {
   "cell_type": "markdown",
   "source": [
    "### Which country spends the most? (*this needs to be redone as we compare apples to oranges (regions to countries))"
   ],
   "metadata": {}
  },
  {
   "cell_type": "code",
   "execution_count": null,
   "source": [
    "df_mil_country = df_mil.groupby('Country Name').aggregate(sum)\n",
    "# df_mil_country['Total'] = df_mil.sum(axis=1,skipna=True)\n",
    "df_mil_country_top = df_mil_country.sort_values(by=['Total'], ascending=False).head()\n",
    "df_mil_country_top\n",
    "\n",
    "## need to fix the overlapping MEA and Pakistan bars\n",
    "sns.barplot(x=df_mil_country_top.index, y='Total', data=df_mil_country_top)\n",
    "plt.ylabel(\"Total Spending\")\n",
    "plt.title(\"Highest spending regions/coutries\") "
   ],
   "outputs": [
    {
     "output_type": "execute_result",
     "data": {
      "text/plain": [
       "Text(0.5, 1.0, 'Highest spending regions/coutries')"
      ]
     },
     "metadata": {},
     "execution_count": 144
    },
    {
     "output_type": "display_data",
     "data": {
      "image/png": "[encoded data removed]",
      "text/plain": [
       "<Figure size 432x288 with 1 Axes>"
      ]
     },
     "metadata": {
      "needs_background": "light"
     }
    }
   ],
   "metadata": {}
  },
  {
   "cell_type": "markdown",
   "source": [
    "Plotting to view the world expenditure above:"
   ],
   "metadata": {}
  },
  {
   "cell_type": "code",
   "execution_count": null,
   "source": [
    "# sns.lineplot(data=df_mil['Total'], x=\"year\", y=\"\")"
   ],
   "outputs": [],
   "metadata": {}
  },
  {
   "cell_type": "markdown",
   "source": [
    "### Refugee data:"
   ],
   "metadata": {}
  },
  {
   "cell_type": "markdown",
   "source": [
    "we could get this geo-spatial data: https://dataverse.harvard.edu/dataset.xhtml?persistentId=doi:10.7910/DVN/25952"
   ],
   "metadata": {}
  },
  {
   "cell_type": "markdown",
   "source": [
    "I also found the below data set here: https://www.unhcr.org/refugee-statistics/download/?url=S7K0lo"
   ],
   "metadata": {}
  },
  {
   "cell_type": "code",
   "execution_count": null,
   "source": [
    "df_ref = pd.read_csv(\"population.csv\", sep=\";\")\n",
    "df_ref"
   ],
   "outputs": [
    {
     "output_type": "execute_result",
     "data": {
      "text/html": [
       "<div>\n",
       "<style scoped>\n",
       "    .dataframe tbody tr th:only-of-type {\n",
       "        vertical-align: middle;\n",
       "    }\n",
       "\n",
       "    .dataframe tbody tr th {\n",
       "        vertical-align: top;\n",
       "    }\n",
       "\n",
       "    .dataframe thead th {\n",
       "        text-align: right;\n",
       "    }\n",
       "</style>\n",
       "<table border=\"1\" class=\"dataframe\">\n",
       "  <thead>\n",
       "    <tr style=\"text-align: right;\">\n",
       "      <th></th>\n",
       "      <th>Year</th>\n",
       "      <th>Country of origin</th>\n",
       "      <th>Country of origin (ISO)</th>\n",
       "      <th>Country of asylum</th>\n",
       "      <th>Country of asylum (ISO)</th>\n",
       "      <th>Refugees under UNHCR's mandate</th>\n",
       "      <th>Asylum-seekers</th>\n",
       "      <th>IDPs of concern to UNHCR</th>\n",
       "      <th>Venezuelans displaced abroad</th>\n",
       "      <th>Stateless persons</th>\n",
       "      <th>Others of concern</th>\n",
       "    </tr>\n",
       "  </thead>\n",
       "  <tbody>\n",
       "    <tr>\n",
       "      <th>0</th>\n",
       "      <td>1975</td>\n",
       "      <td>Zimbabwe</td>\n",
       "      <td>ZWE</td>\n",
       "      <td>Botswana</td>\n",
       "      <td>BWA</td>\n",
       "      <td>80</td>\n",
       "      <td>0</td>\n",
       "      <td>0</td>\n",
       "      <td>NaN</td>\n",
       "      <td>0</td>\n",
       "      <td>0</td>\n",
       "    </tr>\n",
       "    <tr>\n",
       "      <th>1</th>\n",
       "      <td>1975</td>\n",
       "      <td>Zimbabwe</td>\n",
       "      <td>ZWE</td>\n",
       "      <td>Kenya</td>\n",
       "      <td>KEN</td>\n",
       "      <td>60</td>\n",
       "      <td>0</td>\n",
       "      <td>0</td>\n",
       "      <td>NaN</td>\n",
       "      <td>0</td>\n",
       "      <td>0</td>\n",
       "    </tr>\n",
       "    <tr>\n",
       "      <th>2</th>\n",
       "      <td>1975</td>\n",
       "      <td>Zimbabwe</td>\n",
       "      <td>ZWE</td>\n",
       "      <td>Mozambique</td>\n",
       "      <td>MOZ</td>\n",
       "      <td>14500</td>\n",
       "      <td>0</td>\n",
       "      <td>0</td>\n",
       "      <td>NaN</td>\n",
       "      <td>0</td>\n",
       "      <td>0</td>\n",
       "    </tr>\n",
       "    <tr>\n",
       "      <th>3</th>\n",
       "      <td>1975</td>\n",
       "      <td>Zimbabwe</td>\n",
       "      <td>ZWE</td>\n",
       "      <td>United Rep. of Tanzania</td>\n",
       "      <td>TZA</td>\n",
       "      <td>80</td>\n",
       "      <td>0</td>\n",
       "      <td>0</td>\n",
       "      <td>NaN</td>\n",
       "      <td>0</td>\n",
       "      <td>0</td>\n",
       "    </tr>\n",
       "    <tr>\n",
       "      <th>4</th>\n",
       "      <td>1976</td>\n",
       "      <td>Zimbabwe</td>\n",
       "      <td>ZWE</td>\n",
       "      <td>Botswana</td>\n",
       "      <td>BWA</td>\n",
       "      <td>1100</td>\n",
       "      <td>0</td>\n",
       "      <td>0</td>\n",
       "      <td>NaN</td>\n",
       "      <td>0</td>\n",
       "      <td>0</td>\n",
       "    </tr>\n",
       "    <tr>\n",
       "      <th>...</th>\n",
       "      <td>...</td>\n",
       "      <td>...</td>\n",
       "      <td>...</td>\n",
       "      <td>...</td>\n",
       "      <td>...</td>\n",
       "      <td>...</td>\n",
       "      <td>...</td>\n",
       "      <td>...</td>\n",
       "      <td>...</td>\n",
       "      <td>...</td>\n",
       "      <td>...</td>\n",
       "    </tr>\n",
       "    <tr>\n",
       "      <th>108170</th>\n",
       "      <td>2020</td>\n",
       "      <td>Afghanistan</td>\n",
       "      <td>AFG</td>\n",
       "      <td>Ukraine</td>\n",
       "      <td>UKR</td>\n",
       "      <td>822</td>\n",
       "      <td>673</td>\n",
       "      <td>0</td>\n",
       "      <td>NaN</td>\n",
       "      <td>0</td>\n",
       "      <td>0</td>\n",
       "    </tr>\n",
       "    <tr>\n",
       "      <th>108171</th>\n",
       "      <td>2020</td>\n",
       "      <td>Afghanistan</td>\n",
       "      <td>AFG</td>\n",
       "      <td>Uruguay</td>\n",
       "      <td>URY</td>\n",
       "      <td>5</td>\n",
       "      <td>7</td>\n",
       "      <td>0</td>\n",
       "      <td>NaN</td>\n",
       "      <td>0</td>\n",
       "      <td>0</td>\n",
       "    </tr>\n",
       "    <tr>\n",
       "      <th>108172</th>\n",
       "      <td>2020</td>\n",
       "      <td>Afghanistan</td>\n",
       "      <td>AFG</td>\n",
       "      <td>United States of America</td>\n",
       "      <td>USA</td>\n",
       "      <td>1592</td>\n",
       "      <td>796</td>\n",
       "      <td>0</td>\n",
       "      <td>NaN</td>\n",
       "      <td>0</td>\n",
       "      <td>0</td>\n",
       "    </tr>\n",
       "    <tr>\n",
       "      <th>108173</th>\n",
       "      <td>2020</td>\n",
       "      <td>Afghanistan</td>\n",
       "      <td>AFG</td>\n",
       "      <td>Uzbekistan</td>\n",
       "      <td>UZB</td>\n",
       "      <td>13</td>\n",
       "      <td>0</td>\n",
       "      <td>0</td>\n",
       "      <td>NaN</td>\n",
       "      <td>0</td>\n",
       "      <td>0</td>\n",
       "    </tr>\n",
       "    <tr>\n",
       "      <th>108174</th>\n",
       "      <td>2020</td>\n",
       "      <td>Afghanistan</td>\n",
       "      <td>AFG</td>\n",
       "      <td>Venezuela (Bolivarian Republic of)</td>\n",
       "      <td>VEN</td>\n",
       "      <td>10</td>\n",
       "      <td>0</td>\n",
       "      <td>0</td>\n",
       "      <td>NaN</td>\n",
       "      <td>0</td>\n",
       "      <td>0</td>\n",
       "    </tr>\n",
       "  </tbody>\n",
       "</table>\n",
       "<p>108175 rows × 11 columns</p>\n",
       "</div>"
      ],
      "text/plain": [
       "        Year Country of origin Country of origin (ISO)  \\\n",
       "0       1975          Zimbabwe                     ZWE   \n",
       "1       1975          Zimbabwe                     ZWE   \n",
       "2       1975          Zimbabwe                     ZWE   \n",
       "3       1975          Zimbabwe                     ZWE   \n",
       "4       1976          Zimbabwe                     ZWE   \n",
       "...      ...               ...                     ...   \n",
       "108170  2020       Afghanistan                     AFG   \n",
       "108171  2020       Afghanistan                     AFG   \n",
       "108172  2020       Afghanistan                     AFG   \n",
       "108173  2020       Afghanistan                     AFG   \n",
       "108174  2020       Afghanistan                     AFG   \n",
       "\n",
       "                         Country of asylum Country of asylum (ISO)  \\\n",
       "0                                 Botswana                     BWA   \n",
       "1                                    Kenya                     KEN   \n",
       "2                               Mozambique                     MOZ   \n",
       "3                  United Rep. of Tanzania                     TZA   \n",
       "4                                 Botswana                     BWA   \n",
       "...                                    ...                     ...   \n",
       "108170                             Ukraine                     UKR   \n",
       "108171                             Uruguay                     URY   \n",
       "108172            United States of America                     USA   \n",
       "108173                          Uzbekistan                     UZB   \n",
       "108174  Venezuela (Bolivarian Republic of)                     VEN   \n",
       "\n",
       "        Refugees under UNHCR's mandate  Asylum-seekers  \\\n",
       "0                                   80               0   \n",
       "1                                   60               0   \n",
       "2                                14500               0   \n",
       "3                                   80               0   \n",
       "4                                 1100               0   \n",
       "...                                ...             ...   \n",
       "108170                             822             673   \n",
       "108171                               5               7   \n",
       "108172                            1592             796   \n",
       "108173                              13               0   \n",
       "108174                              10               0   \n",
       "\n",
       "        IDPs of concern to UNHCR  Venezuelans displaced abroad  \\\n",
       "0                              0                           NaN   \n",
       "1                              0                           NaN   \n",
       "2                              0                           NaN   \n",
       "3                              0                           NaN   \n",
       "4                              0                           NaN   \n",
       "...                          ...                           ...   \n",
       "108170                         0                           NaN   \n",
       "108171                         0                           NaN   \n",
       "108172                         0                           NaN   \n",
       "108173                         0                           NaN   \n",
       "108174                         0                           NaN   \n",
       "\n",
       "        Stateless persons  Others of concern  \n",
       "0                       0                  0  \n",
       "1                       0                  0  \n",
       "2                       0                  0  \n",
       "3                       0                  0  \n",
       "4                       0                  0  \n",
       "...                   ...                ...  \n",
       "108170                  0                  0  \n",
       "108171                  0                  0  \n",
       "108172                  0                  0  \n",
       "108173                  0                  0  \n",
       "108174                  0                  0  \n",
       "\n",
       "[108175 rows x 11 columns]"
      ]
     },
     "metadata": {},
     "execution_count": 249
    }
   ],
   "metadata": {}
  },
  {
   "cell_type": "markdown",
   "source": [
    "### Total evolution of refugees per year"
   ],
   "metadata": {}
  },
  {
   "cell_type": "code",
   "execution_count": null,
   "source": [
    "df_ref_year = df_ref.groupby(\"Year\").aggregate(np.mean).filter([\"Refugees under UNHCR's mandate\"])\n",
    "df_ref_year\n",
    "\n",
    "sns.lineplot(data=df_ref_year)"
   ],
   "outputs": [
    {
     "output_type": "execute_result",
     "data": {
      "text/plain": [
       "<AxesSubplot:xlabel='Year'>"
      ]
     },
     "metadata": {},
     "execution_count": 250
    },
    {
     "output_type": "display_data",
     "data": {
      "image/png": "[encoded data removed]",
      "text/plain": [
       "<Figure size 432x288 with 1 Axes>"
      ]
     },
     "metadata": {
      "needs_background": "light"
     }
    }
   ],
   "metadata": {}
  },
  {
   "cell_type": "markdown",
   "source": [
    "Interesting to see the UN actually stopped taking refugees after the Mali and Somalia efforts in the 90s. "
   ],
   "metadata": {}
  },
  {
   "cell_type": "markdown",
   "source": [
    "## Which country has the most refugees?"
   ],
   "metadata": {}
  },
  {
   "cell_type": "code",
   "execution_count": null,
   "source": [
    "df_ref_country = df_ref.groupby('Country of origin').aggregate(sum)\n",
    "df_ref_country['Total'] = df_ref.sum(axis=1, skipna=True)\n",
    "plot_ref_country = df_ref_country['Total'].sort_values(ascending=False).head()\n",
    "df_ref_country\n",
    "\n",
    "## To be completed after we discuss where we want to head with\n",
    "## the addtional data\n",
    "\n",
    "## lots of cleaning up to do still which I can take care of\n",
    "## once we all aggree"
   ],
   "outputs": [
    {
     "output_type": "execute_result",
     "data": {
      "text/html": [
       "<div>\n",
       "<style scoped>\n",
       "    .dataframe tbody tr th:only-of-type {\n",
       "        vertical-align: middle;\n",
       "    }\n",
       "\n",
       "    .dataframe tbody tr th {\n",
       "        vertical-align: top;\n",
       "    }\n",
       "\n",
       "    .dataframe thead th {\n",
       "        text-align: right;\n",
       "    }\n",
       "</style>\n",
       "<table border=\"1\" class=\"dataframe\">\n",
       "  <thead>\n",
       "    <tr style=\"text-align: right;\">\n",
       "      <th></th>\n",
       "      <th>Year</th>\n",
       "      <th>Refugees under UNHCR's mandate</th>\n",
       "      <th>Asylum-seekers</th>\n",
       "      <th>IDPs of concern to UNHCR</th>\n",
       "      <th>Venezuelans displaced abroad</th>\n",
       "      <th>Stateless persons</th>\n",
       "      <th>Others of concern</th>\n",
       "      <th>Total</th>\n",
       "    </tr>\n",
       "    <tr>\n",
       "      <th>Country of origin</th>\n",
       "      <th></th>\n",
       "      <th></th>\n",
       "      <th></th>\n",
       "      <th></th>\n",
       "      <th></th>\n",
       "      <th></th>\n",
       "      <th></th>\n",
       "      <th></th>\n",
       "    </tr>\n",
       "  </thead>\n",
       "  <tbody>\n",
       "    <tr>\n",
       "      <th>Afghanistan</th>\n",
       "      <td>4091202</td>\n",
       "      <td>139624848</td>\n",
       "      <td>2305048</td>\n",
       "      <td>20650774</td>\n",
       "      <td>0.0</td>\n",
       "      <td>0</td>\n",
       "      <td>5697174</td>\n",
       "      <td>689476184.0</td>\n",
       "    </tr>\n",
       "    <tr>\n",
       "      <th>Albania</th>\n",
       "      <td>1430628</td>\n",
       "      <td>332009</td>\n",
       "      <td>204073</td>\n",
       "      <td>0</td>\n",
       "      <td>0.0</td>\n",
       "      <td>0</td>\n",
       "      <td>2445</td>\n",
       "      <td>7876620.0</td>\n",
       "    </tr>\n",
       "    <tr>\n",
       "      <th>Algeria</th>\n",
       "      <td>2259509</td>\n",
       "      <td>190183</td>\n",
       "      <td>77950</td>\n",
       "      <td>0</td>\n",
       "      <td>0.0</td>\n",
       "      <td>0</td>\n",
       "      <td>272</td>\n",
       "      <td>10111656.0</td>\n",
       "    </tr>\n",
       "    <tr>\n",
       "      <th>Andorra</th>\n",
       "      <td>56266</td>\n",
       "      <td>102</td>\n",
       "      <td>52</td>\n",
       "      <td>0</td>\n",
       "      <td>0.0</td>\n",
       "      <td>0</td>\n",
       "      <td>0</td>\n",
       "      <td>225680.0</td>\n",
       "    </tr>\n",
       "    <tr>\n",
       "      <th>Angola</th>\n",
       "      <td>2615322</td>\n",
       "      <td>15225833</td>\n",
       "      <td>116668</td>\n",
       "      <td>1040036</td>\n",
       "      <td>0.0</td>\n",
       "      <td>0</td>\n",
       "      <td>399992</td>\n",
       "      <td>77591404.0</td>\n",
       "    </tr>\n",
       "    <tr>\n",
       "      <th>...</th>\n",
       "      <td>...</td>\n",
       "      <td>...</td>\n",
       "      <td>...</td>\n",
       "      <td>...</td>\n",
       "      <td>...</td>\n",
       "      <td>...</td>\n",
       "      <td>...</td>\n",
       "      <td>...</td>\n",
       "    </tr>\n",
       "    <tr>\n",
       "      <th>Viet Nam</th>\n",
       "      <td>2400301</td>\n",
       "      <td>16160926</td>\n",
       "      <td>65636</td>\n",
       "      <td>0</td>\n",
       "      <td>0.0</td>\n",
       "      <td>0</td>\n",
       "      <td>10168</td>\n",
       "      <td>74548124.0</td>\n",
       "    </tr>\n",
       "    <tr>\n",
       "      <th>Western Sahara</th>\n",
       "      <td>445942</td>\n",
       "      <td>6040691</td>\n",
       "      <td>10964</td>\n",
       "      <td>0</td>\n",
       "      <td>0.0</td>\n",
       "      <td>0</td>\n",
       "      <td>208426</td>\n",
       "      <td>26824092.0</td>\n",
       "    </tr>\n",
       "    <tr>\n",
       "      <th>Yemen</th>\n",
       "      <td>1965410</td>\n",
       "      <td>564282</td>\n",
       "      <td>155600</td>\n",
       "      <td>18364917</td>\n",
       "      <td>0.0</td>\n",
       "      <td>0</td>\n",
       "      <td>123</td>\n",
       "      <td>84201328.0</td>\n",
       "    </tr>\n",
       "    <tr>\n",
       "      <th>Zambia</th>\n",
       "      <td>498301</td>\n",
       "      <td>30679</td>\n",
       "      <td>5724</td>\n",
       "      <td>0</td>\n",
       "      <td>0.0</td>\n",
       "      <td>0</td>\n",
       "      <td>15</td>\n",
       "      <td>2138876.0</td>\n",
       "    </tr>\n",
       "    <tr>\n",
       "      <th>Zimbabwe</th>\n",
       "      <td>1336529</td>\n",
       "      <td>806214</td>\n",
       "      <td>439838</td>\n",
       "      <td>442343</td>\n",
       "      <td>0.0</td>\n",
       "      <td>0</td>\n",
       "      <td>1103</td>\n",
       "      <td>12104108.0</td>\n",
       "    </tr>\n",
       "  </tbody>\n",
       "</table>\n",
       "<p>213 rows × 8 columns</p>\n",
       "</div>"
      ],
      "text/plain": [
       "                      Year  Refugees under UNHCR's mandate  Asylum-seekers  \\\n",
       "Country of origin                                                            \n",
       "Afghanistan        4091202                       139624848         2305048   \n",
       "Albania            1430628                          332009          204073   \n",
       "Algeria            2259509                          190183           77950   \n",
       "Andorra              56266                             102              52   \n",
       "Angola             2615322                        15225833          116668   \n",
       "...                    ...                             ...             ...   \n",
       "Viet Nam           2400301                        16160926           65636   \n",
       "Western Sahara      445942                         6040691           10964   \n",
       "Yemen              1965410                          564282          155600   \n",
       "Zambia              498301                           30679            5724   \n",
       "Zimbabwe           1336529                          806214          439838   \n",
       "\n",
       "                   IDPs of concern to UNHCR  Venezuelans displaced abroad  \\\n",
       "Country of origin                                                           \n",
       "Afghanistan                        20650774                           0.0   \n",
       "Albania                                   0                           0.0   \n",
       "Algeria                                   0                           0.0   \n",
       "Andorra                                   0                           0.0   \n",
       "Angola                              1040036                           0.0   \n",
       "...                                     ...                           ...   \n",
       "Viet Nam                                  0                           0.0   \n",
       "Western Sahara                            0                           0.0   \n",
       "Yemen                              18364917                           0.0   \n",
       "Zambia                                    0                           0.0   \n",
       "Zimbabwe                             442343                           0.0   \n",
       "\n",
       "                   Stateless persons  Others of concern        Total  \n",
       "Country of origin                                                     \n",
       "Afghanistan                        0            5697174  689476184.0  \n",
       "Albania                            0               2445    7876620.0  \n",
       "Algeria                            0                272   10111656.0  \n",
       "Andorra                            0                  0     225680.0  \n",
       "Angola                             0             399992   77591404.0  \n",
       "...                              ...                ...          ...  \n",
       "Viet Nam                           0              10168   74548124.0  \n",
       "Western Sahara                     0             208426   26824092.0  \n",
       "Yemen                              0                123   84201328.0  \n",
       "Zambia                             0                 15    2138876.0  \n",
       "Zimbabwe                           0               1103   12104108.0  \n",
       "\n",
       "[213 rows x 8 columns]"
      ]
     },
     "metadata": {},
     "execution_count": 280
    }
   ],
   "metadata": {}
  }
 ],
 "metadata": {
  "colab": {
   "collapsed_sections": [],
   "name": "Lab3-Assignment1-Aux.ipynb",
   "provenance": []
  },
  "kernelspec": {
   "name": "python3",
   "display_name": "Python 3.8.2 64-bit ('campaign_insights': conda)"
  },
  "language_info": {
   "codemirror_mode": {
    "name": "ipython",
    "version": 3
   },
   "file_extension": ".py",
   "mimetype": "text/x-python",
   "name": "python",
   "nbconvert_exporter": "python",
   "pygments_lexer": "ipython3",
   "version": "3.8.2"
  },
  "interpreter": {
   "hash": "ec32a83c9a84380309872ccac84cb8208d23eb951ff1c9befe3079c0e426982c"
  }
 },
 "nbformat": 4,
 "nbformat_minor": 5
}